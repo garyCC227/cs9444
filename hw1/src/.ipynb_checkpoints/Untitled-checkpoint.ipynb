{
 "cells": [
  {
   "cell_type": "code",
   "execution_count": 3,
   "metadata": {},
   "outputs": [],
   "source": [
    "import numpy as np\n",
    "import pickle as pkl\n",
    "import matplotlib.pyplot as plt"
   ]
  },
  {
   "cell_type": "code",
   "execution_count": 4,
   "metadata": {},
   "outputs": [],
   "source": [
    "def main():\n",
    "    inputs, labels = pkl.load(open(\"../data/binary_classification_data.pkl\", \"rb\"))\n",
    "\n",
    "#     epochs = 400\n",
    "#     model = LinearModel(num_inputs=inputs.shape[1], learning_rate=0.01)\n",
    "\n",
    "#     for i in range(epochs):\n",
    "#         num_correct = 0\n",
    "#         for x, y in zip(inputs, labels):\n",
    "#             # Get prediction\n",
    "#             output = model.forward(x)\n",
    "\n",
    "#             # Calculate loss\n",
    "#             cost = model.loss(output, y)\n",
    "\n",
    "#             # Calculate difference or differential\n",
    "#             diff = model.error(output, y)\n",
    "\n",
    "#             # Update the weights\n",
    "#             model.backward(x, diff)\n",
    "\n",
    "#             # Record accuracy\n",
    "#             preds = output > 0.5  # 0.5 is midline of sigmoid\n",
    "#             num_correct += int(preds == y)\n",
    "\n",
    "#         print(f\" Cost: {cost:8.6f} Accuracy: {num_correct / len(inputs) * 100}%\")\n",
    "#         model.plot(inputs, \"C2--\")\n",
    "#     model.plot(inputs, \"k\")\n",
    "#     plt.show()"
   ]
  },
  {
   "cell_type": "code",
   "execution_count": 6,
   "metadata": {},
   "outputs": [],
   "source": [
    "inputs, labels = pkl.load(open(\"../data/binary_classification_data.pkl\", \"rb\"))"
   ]
  },
  {
   "cell_type": "code",
   "execution_count": null,
   "metadata": {},
   "outputs": [],
   "source": [
    "plt.plot(inputs[:,0], inputs[:,])"
   ]
  }
 ],
 "metadata": {
  "kernelspec": {
   "display_name": "Python 3",
   "language": "python",
   "name": "python3"
  },
  "language_info": {
   "codemirror_mode": {
    "name": "ipython",
    "version": 3
   },
   "file_extension": ".py",
   "mimetype": "text/x-python",
   "name": "python",
   "nbconvert_exporter": "python",
   "pygments_lexer": "ipython3",
   "version": "3.6.8"
  }
 },
 "nbformat": 4,
 "nbformat_minor": 2
}
